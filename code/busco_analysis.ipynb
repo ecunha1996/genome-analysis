{
 "cells": [
  {
   "cell_type": "code",
   "execution_count": 2,
   "id": "initial_id",
   "metadata": {
    "collapsed": true,
    "ExecuteTime": {
     "end_time": "2024-01-11T15:24:46.964417800Z",
     "start_time": "2024-01-11T15:24:41.116187600Z"
    }
   },
   "outputs": [],
   "source": [
    "from gsmmutils.annotation.busco import BuscoDocker"
   ]
  },
  {
   "cell_type": "code",
   "outputs": [
    {
     "name": "stdout",
     "output_type": "stream",
     "text": [
      "Connected to remote server palsson.di.uminho.pt\n"
     ]
    }
   ],
   "source": [
    "busco_docker = BuscoDocker(server=\"palsson\")"
   ],
   "metadata": {
    "collapsed": false,
    "ExecuteTime": {
     "end_time": "2024-01-11T17:45:46.178399700Z",
     "start_time": "2024-01-11T17:45:35.050535100Z"
    }
   },
   "id": "446a20b1aeb3f4b3",
   "execution_count": 7
  },
  {
   "cell_type": "code",
   "outputs": [],
   "source": [
    "busco_docker.remote.exec(\"mkdir /home/ecunha/busco/stramenopiles/ASM24072v1\")\n",
    "busco_docker.remote.exec(\"mkdir /home/ecunha/busco/stramenopiles/Ectocarpus siliculosus Ec32\")\n",
    "busco_docker.remote.exec(\"mkdir /home/ecunha/busco/stramenopiles/NagaB31_1.0\")\n",
    "busco_docker.remote.exec(\"mkdir /home/ecunha/busco/stramenopiles/Noceanica_IMET1\")\n",
    "busco_docker.remote.exec(\"mkdir /home/ecunha/busco/stramenopiles/Nsalina_CCMP1776\")\n",
    "busco_docker.remote.exec(\"mkdir /home/ecunha/busco/stramenopiles/Phaeodactylum tricornutum CCAP\")"
   ],
   "metadata": {
    "collapsed": false,
    "ExecuteTime": {
     "end_time": "2024-01-11T14:34:00.191351400Z",
     "start_time": "2024-01-11T14:33:59.949811900Z"
    }
   },
   "id": "f28cb5ce2239d27c",
   "execution_count": 12
  },
  {
   "cell_type": "code",
   "outputs": [],
   "source": [
    "# busco_docker.remote.upload_data(\"../data/Genomes/Stramenopiles/ASM24072v1/GCA_000240725.1_ASM24072v1_protein.faa\", \"/home/ecunha/busco/stramenopiles/ASM24072v1/protein.faa\")\n",
    "# busco_docker.remote.upload_data(r\"../data/Genomes/Stramenopiles/Ectocarpus_siliculosus_Ec32/GCA_000310025.1_ASM31002v1_protein.faa\", \"/home/ecunha/busco/stramenopiles/Ectocarpus/protein.faa\")\n",
    "# busco_docker.remote.upload_data(\"../data/Genomes/Stramenopiles/NagaB31_1.0/GCA_000569095.1_NagaB31_1.0_protein.faa\", \"/home/ecunha/busco/stramenopiles/NagaB31_1.0/protein.faa\")\n",
    "busco_docker.remote.upload_data(\"../data/Genomes/Stramenopiles/Noceanica_IMET1/IMET1v2.protein.fasta\", \"/home/ecunha/busco/stramenopiles/Noceanica_IMET1/protein.faa\")\n",
    "# busco_docker.remote.upload_data(\"../data/Genomes/Stramenopiles/Nsalina_CCMP1776/GCA_004565275.1_ASM456527v1_protein.faa\", \"/home/ecunha/busco/stramenopiles/Nsalina_CCMP1776/protein.faa\")\n",
    "# busco_docker.remote.upload_data(r\"../data/Genomes/Stramenopiles/Phaeodactylum_tricornutum_CCAP/GCF_000150955.2_ASM15095v2_protein.faa\", \"/home/ecunha/busco/stramenopiles/Phaeodactylum/protein.faa\")"
   ],
   "metadata": {
    "collapsed": false,
    "ExecuteTime": {
     "end_time": "2024-01-11T18:06:56.852803Z",
     "start_time": "2024-01-11T18:06:55.768968200Z"
    }
   },
   "id": "d2c9dcc7f2bf6169",
   "execution_count": 14
  },
  {
   "cell_type": "code",
   "outputs": [
    {
     "name": "stdout",
     "output_type": "stream",
     "text": [
      "docker run -u $(id -u) --name busco --rm -v /home/ecunha/busco/stramenopiles/Noceanica_IMET1:/busco_wd:Z ezlabgva/busco:v5.5.0_cv1 busco -i protein.faa -o busco_output_test -m proteins -f\n",
      "2024-01-11 18:07:04 INFO:\t***** Start a BUSCO v5.5.0 analysis, current time: 01/11/2024 18:07:04 *****\n",
      "2024-01-11 18:07:04 INFO:\tConfiguring BUSCO with local environment\n",
      "2024-01-11 18:07:04 WARNING:\tRunning Auto Lineage Selector as no lineage dataset was specified. This will take a little longer than normal. If you know what lineage dataset you want to use, please specify this in the config file or using the -l (--lineage-dataset) flag in the command line.\n",
      "2024-01-11 18:07:04 INFO:\tMode is proteins\n",
      "2024-01-11 18:07:04 INFO:\t'Force' option selected; overwriting previous results directory\n",
      "2024-01-11 18:07:04 INFO:\tDownloading information on latest versions of BUSCO data...\n",
      "2024-01-11 18:07:06 INFO:\tInput file is /busco_wd/protein.faa\n",
      "2024-01-11 18:07:06 INFO:\tNo lineage specified. Running lineage auto selector.\n",
      "\n",
      "2024-01-11 18:07:06 INFO:\t***** Starting Auto Select Lineage *****\n",
      "\tThis process runs BUSCO on the generic lineage datasets for the domains archaea, bacteria and eukaryota. Once the optimal domain is selected, BUSCO automatically attempts to find the most appropriate BUSCO dataset to use based on phylogenetic placement.\n",
      "\t--auto-lineage-euk and --auto-lineage-prok are also available if you know your input assembly is, or is not, an eukaryote. See the user guide for more information.\n",
      "\tA reminder: Busco evaluations are valid when an appropriate dataset is used, i.e., the dataset belongs to the lineage of the species to test. Because of overlapping markers/spurious matches among domains, busco matches in another domain do not necessarily mean that your genome/proteome contains sequences from this domain. However, a high busco score in multiple domains might help you identify possible contaminations.\n",
      "2024-01-11 18:07:06 INFO:\tRunning BUSCO using lineage dataset archaea_odb10 (prokaryota, 2024-01-08)\n",
      "2024-01-11 18:07:06 INFO:\t***** Run HMMER on gene sequences *****\n",
      "2024-01-11 18:07:06 INFO:\tRunning 194 job(s) on hmmsearch, starting at 01/11/2024 18:07:06\n",
      "2024-01-11 18:07:09 INFO:\t[hmmsearch]\t20 of 194 task(s) completed\n",
      "2024-01-11 18:07:10 INFO:\t[hmmsearch]\t39 of 194 task(s) completed\n",
      "2024-01-11 18:07:11 INFO:\t[hmmsearch]\t59 of 194 task(s) completed\n",
      "2024-01-11 18:07:16 INFO:\t[hmmsearch]\t78 of 194 task(s) completed\n",
      "2024-01-11 18:07:19 INFO:\t[hmmsearch]\t97 of 194 task(s) completed\n",
      "2024-01-11 18:07:23 INFO:\t[hmmsearch]\t117 of 194 task(s) completed\n",
      "2024-01-11 18:07:25 INFO:\t[hmmsearch]\t136 of 194 task(s) completed\n",
      "2024-01-11 18:07:27 INFO:\t[hmmsearch]\t156 of 194 task(s) completed\n",
      "2024-01-11 18:07:29 INFO:\t[hmmsearch]\t175 of 194 task(s) completed\n",
      "2024-01-11 18:07:30 INFO:\t[hmmsearch]\t194 of 194 task(s) completed\n",
      "2024-01-11 18:07:31 INFO:\tResults:\tC:62.9%[S:46.9%,D:16.0%],F:6.2%,M:30.9%,n:194\t   \n",
      "\n",
      "2024-01-11 18:07:31 INFO:\tRunning BUSCO using lineage dataset bacteria_odb10 (prokaryota, 2024-01-08)\n",
      "2024-01-11 18:07:31 INFO:\t***** Run HMMER on gene sequences *****\n",
      "2024-01-11 18:07:31 INFO:\tRunning 124 job(s) on hmmsearch, starting at 01/11/2024 18:07:31\n",
      "2024-01-11 18:07:34 INFO:\t[hmmsearch]\t13 of 124 task(s) completed\n",
      "2024-01-11 18:07:35 INFO:\t[hmmsearch]\t25 of 124 task(s) completed\n",
      "2024-01-11 18:07:37 INFO:\t[hmmsearch]\t38 of 124 task(s) completed\n",
      "2024-01-11 18:07:38 INFO:\t[hmmsearch]\t50 of 124 task(s) completed\n",
      "2024-01-11 18:07:39 INFO:\t[hmmsearch]\t63 of 124 task(s) completed\n",
      "2024-01-11 18:07:40 INFO:\t[hmmsearch]\t75 of 124 task(s) completed\n",
      "2024-01-11 18:07:41 INFO:\t[hmmsearch]\t87 of 124 task(s) completed\n",
      "2024-01-11 18:07:42 INFO:\t[hmmsearch]\t100 of 124 task(s) completed\n",
      "2024-01-11 18:07:45 INFO:\t[hmmsearch]\t112 of 124 task(s) completed\n",
      "2024-01-11 18:07:48 INFO:\t[hmmsearch]\t124 of 124 task(s) completed\n",
      "2024-01-11 18:07:49 INFO:\tResults:\tC:54.0%[S:41.9%,D:12.1%],F:10.5%,M:35.5%,n:124\t   \n",
      "\n",
      "2024-01-11 18:07:49 INFO:\tRunning BUSCO using lineage dataset eukaryota_odb10 (eukaryota, 2024-01-08)\n",
      "2024-01-11 18:07:49 INFO:\t***** Run HMMER on gene sequences *****\n",
      "2024-01-11 18:07:49 INFO:\tRunning 255 job(s) on hmmsearch, starting at 01/11/2024 18:07:49\n",
      "2024-01-11 18:07:58 INFO:\t[hmmsearch]\t26 of 255 task(s) completed\n",
      "2024-01-11 18:08:03 INFO:\t[hmmsearch]\t51 of 255 task(s) completed\n",
      "2024-01-11 18:08:07 INFO:\t[hmmsearch]\t77 of 255 task(s) completed\n",
      "2024-01-11 18:08:10 INFO:\t[hmmsearch]\t102 of 255 task(s) completed\n",
      "2024-01-11 18:08:13 INFO:\t[hmmsearch]\t128 of 255 task(s) completed\n",
      "2024-01-11 18:08:28 INFO:\t[hmmsearch]\t153 of 255 task(s) completed\n",
      "2024-01-11 18:08:42 INFO:\t[hmmsearch]\t179 of 255 task(s) completed\n",
      "2024-01-11 18:08:48 INFO:\t[hmmsearch]\t204 of 255 task(s) completed\n",
      "2024-01-11 18:08:55 INFO:\t[hmmsearch]\t230 of 255 task(s) completed\n",
      "2024-01-11 18:08:59 INFO:\t[hmmsearch]\t255 of 255 task(s) completed\n",
      "2024-01-11 18:09:00 INFO:\tResults:\tC:84.3%[S:73.3%,D:11.0%],F:6.7%,M:9.0%,n:255\t   \n",
      "\n",
      "2024-01-11 18:09:00 INFO:\teukaryota_odb10 selected\n",
      "\n",
      "2024-01-11 18:09:00 INFO:\t***** Searching tree for chosen lineage to find best taxonomic match *****\n",
      "\n",
      "2024-01-11 18:09:00 INFO:\tExtract markers...\n",
      "2024-01-11 18:09:00 INFO:\tDownloading file 'https://busco-data.ezlab.org/v5/data/placement_files/list_of_reference_markers.eukaryota_odb10.2019-12-16.txt.tar.gz'\n",
      "2024-01-11 18:09:00 INFO:\tDecompressing file '/busco_wd/busco_downloads/placement_files/list_of_reference_markers.eukaryota_odb10.2019-12-16.txt.tar.gz'\n",
      "2024-01-11 18:09:00 INFO:\tDownloading file 'https://busco-data.ezlab.org/v5/data/placement_files/tree.eukaryota_odb10.2019-12-16.nwk.tar.gz'\n",
      "2024-01-11 18:09:01 INFO:\tDecompressing file '/busco_wd/busco_downloads/placement_files/tree.eukaryota_odb10.2019-12-16.nwk.tar.gz'\n",
      "2024-01-11 18:09:01 INFO:\tDownloading file 'https://busco-data.ezlab.org/v5/data/placement_files/tree_metadata.eukaryota_odb10.2019-12-16.txt.tar.gz'\n",
      "2024-01-11 18:09:02 INFO:\tDecompressing file '/busco_wd/busco_downloads/placement_files/tree_metadata.eukaryota_odb10.2019-12-16.txt.tar.gz'\n",
      "2024-01-11 18:09:02 INFO:\tDownloading file 'https://busco-data.ezlab.org/v5/data/placement_files/supermatrix.aln.eukaryota_odb10.2019-12-16.faa.tar.gz'\n",
      "2024-01-11 18:09:05 INFO:\tDecompressing file '/busco_wd/busco_downloads/placement_files/supermatrix.aln.eukaryota_odb10.2019-12-16.faa.tar.gz'\n",
      "2024-01-11 18:09:05 INFO:\tDownloading file 'https://busco-data.ezlab.org/v5/data/placement_files/mapping_taxids-busco_dataset_name.eukaryota_odb10.2019-12-16.txt.tar.gz'\n",
      "2024-01-11 18:09:05 INFO:\tDecompressing file '/busco_wd/busco_downloads/placement_files/mapping_taxids-busco_dataset_name.eukaryota_odb10.2019-12-16.txt.tar.gz'\n",
      "2024-01-11 18:09:05 INFO:\tDownloading file 'https://busco-data.ezlab.org/v5/data/placement_files/mapping_taxid-lineage.eukaryota_odb10.2019-12-16.txt.tar.gz'\n",
      "2024-01-11 18:09:06 INFO:\tDecompressing file '/busco_wd/busco_downloads/placement_files/mapping_taxid-lineage.eukaryota_odb10.2019-12-16.txt.tar.gz'\n",
      "2024-01-11 18:09:06 INFO:\tPlace the markers on the reference tree...\n",
      "2024-01-11 18:09:06 INFO:\tRunning 1 job(s) on sepp, starting at 01/11/2024 18:09:06\n",
      "2024-01-11 18:22:36 INFO:\t[sepp]\t1 of 1 task(s) completed\n",
      "2024-01-11 18:22:37 INFO:\tLineage stramenopiles is selected, supported by 38 markers out of 78\n",
      "2024-01-11 18:22:37 INFO:\tDownloading file 'https://busco-data.ezlab.org/v5/data/lineages/stramenopiles_odb10.2024-01-08.tar.gz'\n",
      "2024-01-11 18:22:38 INFO:\tDecompressing file '/busco_wd/busco_downloads/lineages/stramenopiles_odb10.tar.gz'\n",
      "2024-01-11 18:22:38 INFO:\tRunning BUSCO using lineage dataset stramenopiles_odb10 (eukaryota, 2024-01-08)\n",
      "2024-01-11 18:22:38 INFO:\t***** Run HMMER on gene sequences *****\n",
      "2024-01-11 18:22:38 INFO:\tRunning 100 job(s) on hmmsearch, starting at 01/11/2024 18:22:38\n",
      "2024-01-11 18:22:43 INFO:\t[hmmsearch]\t10 of 100 task(s) completed\n",
      "2024-01-11 18:22:46 INFO:\t[hmmsearch]\t20 of 100 task(s) completed\n",
      "2024-01-11 18:22:48 INFO:\t[hmmsearch]\t30 of 100 task(s) completed\n",
      "2024-01-11 18:22:50 INFO:\t[hmmsearch]\t40 of 100 task(s) completed\n",
      "2024-01-11 18:22:51 INFO:\t[hmmsearch]\t50 of 100 task(s) completed\n",
      "2024-01-11 18:22:52 INFO:\t[hmmsearch]\t60 of 100 task(s) completed\n",
      "2024-01-11 18:22:55 INFO:\t[hmmsearch]\t70 of 100 task(s) completed\n",
      "2024-01-11 18:22:59 INFO:\t[hmmsearch]\t80 of 100 task(s) completed\n",
      "2024-01-11 18:23:06 INFO:\t[hmmsearch]\t90 of 100 task(s) completed\n",
      "2024-01-11 18:23:09 INFO:\t[hmmsearch]\t100 of 100 task(s) completed\n",
      "2024-01-11 18:23:10 INFO:\t\n",
      "\n",
      "\t---------------------------------------------------\n",
      "\t|Results from generic domain eukaryota_odb10       |\n",
      "\t---------------------------------------------------\n",
      "\t|C:84.3%[S:73.3%,D:11.0%],F:6.7%,M:9.0%,n:255      |\n",
      "\t|215\tComplete BUSCOs (C)                        |\n",
      "\t|187\tComplete and single-copy BUSCOs (S)        |\n",
      "\t|28\tComplete and duplicated BUSCOs (D)         |\n",
      "\t|17\tFragmented BUSCOs (F)                      |\n",
      "\t|23\tMissing BUSCOs (M)                         |\n",
      "\t|255\tTotal BUSCO groups searched                |\n",
      "\t---------------------------------------------------\n",
      "\n",
      "\t---------------------------------------------------\n",
      "\t|Results from dataset stramenopiles_odb10          |\n",
      "\t---------------------------------------------------\n",
      "\t|C:99.0%[S:89.0%,D:10.0%],F:0.0%,M:1.0%,n:100      |\n",
      "\t|99\tComplete BUSCOs (C)                        |\n",
      "\t|89\tComplete and single-copy BUSCOs (S)        |\n",
      "\t|10\tComplete and duplicated BUSCOs (D)         |\n",
      "\t|0\tFragmented BUSCOs (F)                      |\n",
      "\t|1\tMissing BUSCOs (M)                         |\n",
      "\t|100\tTotal BUSCO groups searched                |\n",
      "\t---------------------------------------------------\n",
      "2024-01-11 18:23:10 INFO:\tBUSCO analysis done with WARNING(s). Total running time: 964 seconds\n",
      "\n",
      "***** Summary of warnings: *****\n",
      "2024-01-11 18:07:04 WARNING:busco.BuscoConfig\tRunning Auto Lineage Selector as no lineage dataset was specified. This will take a little longer than normal. If you know what lineage dataset you want to use, please specify this in the config file or using the -l (--lineage-dataset) flag in the command line.\n",
      "\n",
      "2024-01-11 18:23:10 INFO:\tResults written in /busco_wd/busco_output_test\n",
      "2024-01-11 18:23:10 INFO:\tFor assistance with interpreting the results, please consult the userguide: https://busco.ezlab.org/busco_userguide.html\n",
      "\n",
      "2024-01-11 18:23:10 INFO:\tVisit this page https://gitlab.com/ezlab/busco#how-to-cite-busco to see how to cite BUSCO\n"
     ]
    }
   ],
   "source": [
    "to_run = [\"Noceanica_IMET1\"] #[\"ASM24072v1\", \"Ectocarpus\", \"NagaB31_1.0\", \"Noceanica_IMET1\", \"Nsalina_CCMP1776\", \"Phaeodactylum\"] \n",
    "for genome in to_run:\n",
    "    busco_docker.data_directory = \"/home/ecunha/busco/stramenopiles/\" + genome\n",
    "    busco_docker.run(\"-i protein.faa -o busco_output_test -m proteins -f\")"
   ],
   "metadata": {
    "collapsed": false,
    "ExecuteTime": {
     "end_time": "2024-01-11T18:23:11.567014700Z",
     "start_time": "2024-01-11T18:07:02.654439900Z"
    }
   },
   "id": "f044eb04ad5ad9cb",
   "execution_count": 15
  },
  {
   "cell_type": "code",
   "outputs": [],
   "source": [
    "for genome in to_run:\n",
    "    try:\n",
    "        busco_docker.remote.download_data(f\"/home/ecunha/busco/stramenopiles/{genome}/busco_output_test/short_summary.specific.stramenopiles_odb10.busco_output_test.txt\", f\"../data/Genomes/Stramenopiles/{genome}/short_summary.specific.stramenopiles_odb10.busco_output_test.txt\")\n",
    "    except:\n",
    "        print(genome)"
   ],
   "metadata": {
    "collapsed": false,
    "ExecuteTime": {
     "end_time": "2024-01-12T09:09:55.286439500Z",
     "start_time": "2024-01-12T09:09:54.910941Z"
    }
   },
   "id": "59a8ded76ee86733",
   "execution_count": 17
  }
 ],
 "metadata": {
  "kernelspec": {
   "display_name": "Python 3",
   "language": "python",
   "name": "python3"
  },
  "language_info": {
   "codemirror_mode": {
    "name": "ipython",
    "version": 2
   },
   "file_extension": ".py",
   "mimetype": "text/x-python",
   "name": "python",
   "nbconvert_exporter": "python",
   "pygments_lexer": "ipython2",
   "version": "2.7.6"
  }
 },
 "nbformat": 4,
 "nbformat_minor": 5
}
