{
 "cells": [
  {
   "cell_type": "code",
   "execution_count": 1,
   "id": "initial_id",
   "metadata": {
    "collapsed": true,
    "ExecuteTime": {
     "end_time": "2024-02-12T11:26:29.544699800Z",
     "start_time": "2024-02-12T11:26:20.521107Z"
    }
   },
   "outputs": [],
   "source": [
    "from gsmmutils.annotation.busco import BuscoDocker"
   ]
  },
  {
   "cell_type": "code",
   "outputs": [
    {
     "name": "stdout",
     "output_type": "stream",
     "text": [
      "Connected to remote server palsson.di.uminho.pt\n"
     ]
    }
   ],
   "source": [
    "busco_docker = BuscoDocker(server=\"palsson\")"
   ],
   "metadata": {
    "collapsed": false,
    "ExecuteTime": {
     "end_time": "2024-02-12T11:27:03.330453200Z",
     "start_time": "2024-02-12T11:26:51.091165100Z"
    }
   },
   "id": "446a20b1aeb3f4b3",
   "execution_count": 3
  },
  {
   "cell_type": "code",
   "outputs": [],
   "source": [
    "busco_docker.remote.exec(\"mkdir /home/ecunha/busco/stramenopiles/ASM24072v1\")\n",
    "busco_docker.remote.exec(\"mkdir /home/ecunha/busco/stramenopiles/Ectocarpus siliculosus Ec32\")\n",
    "busco_docker.remote.exec(\"mkdir /home/ecunha/busco/stramenopiles/NagaB31_1.0\")\n",
    "busco_docker.remote.exec(\"mkdir /home/ecunha/busco/stramenopiles/Noceanica_IMET1\")\n",
    "busco_docker.remote.exec(\"mkdir /home/ecunha/busco/stramenopiles/Nsalina_CCMP1776\")\n",
    "busco_docker.remote.exec(\"mkdir /home/ecunha/busco/stramenopiles/Phaeodactylum tricornutum CCAP\")"
   ],
   "metadata": {
    "collapsed": false,
    "ExecuteTime": {
     "end_time": "2024-01-11T14:34:00.191351400Z",
     "start_time": "2024-01-11T14:33:59.949811900Z"
    }
   },
   "id": "f28cb5ce2239d27c",
   "execution_count": 12
  },
  {
   "cell_type": "code",
   "outputs": [],
   "source": [
    "# busco_docker.remote.upload_data(\"../data/Genomes/Stramenopiles/ASM24072v1/GCA_000240725.1_ASM24072v1_protein.faa\", \"/home/ecunha/busco/stramenopiles/ASM24072v1/protein.faa\")\n",
    "# busco_docker.remote.upload_data(r\"../data/Genomes/Stramenopiles/Ectocarpus_siliculosus_Ec32/GCA_000310025.1_ASM31002v1_protein.faa\", \"/home/ecunha/busco/stramenopiles/Ectocarpus/protein.faa\")\n",
    "# busco_docker.remote.upload_data(\"../data/Genomes/Stramenopiles/NagaB31_1.0/GCA_000569095.1_NagaB31_1.0_protein.faa\", \"/home/ecunha/busco/stramenopiles/NagaB31_1.0/protein.faa\")\n",
    "busco_docker.remote.upload_data(\"../data/Genomes/Stramenopiles/Noceanica_IMET1/IMET1v2.protein.fasta\", \"/home/ecunha/busco/stramenopiles/Noceanica_IMET1/protein.faa\")\n",
    "# busco_docker.remote.upload_data(\"../data/Genomes/Stramenopiles/Nsalina_CCMP1776/GCA_004565275.1_ASM456527v1_protein.faa\", \"/home/ecunha/busco/stramenopiles/Nsalina_CCMP1776/protein.faa\")\n",
    "# busco_docker.remote.upload_data(r\"../data/Genomes/Stramenopiles/Phaeodactylum_tricornutum_CCAP/GCF_000150955.2_ASM15095v2_protein.faa\", \"/home/ecunha/busco/stramenopiles/Phaeodactylum/protein.faa\")"
   ],
   "metadata": {
    "collapsed": false,
    "ExecuteTime": {
     "end_time": "2024-01-11T18:06:56.852803Z",
     "start_time": "2024-01-11T18:06:55.768968200Z"
    }
   },
   "id": "d2c9dcc7f2bf6169",
   "execution_count": 14
  },
  {
   "cell_type": "code",
   "outputs": [],
   "source": [
    "to_run = [\"ASM24072v1\", \"Ectocarpus\", \"NagaB31_1.0\", \"Noceanica_IMET1\", \"Nsalina_CCMP1776\", \"Phaeodactylum\"]\n",
    "# for genome in to_run:\n",
    "#     busco_docker.data_directory = \"/home/ecunha/busco/stramenopiles/\" + genome\n",
    "#     busco_docker.run(\"-i protein.faa -o busco_output_test -m proteins -f\")"
   ],
   "metadata": {
    "collapsed": false,
    "ExecuteTime": {
     "end_time": "2024-02-12T11:28:01.657854400Z",
     "start_time": "2024-02-12T11:28:01.648844600Z"
    }
   },
   "id": "f044eb04ad5ad9cb",
   "execution_count": 4
  },
  {
   "cell_type": "code",
   "outputs": [],
   "source": [
    "from os.path import exists\n",
    "from os import makedirs\n",
    "\n",
    "for genome in to_run:\n",
    "    try:\n",
    "        if not exists(f\"../results/busco/Stramenopiles/{genome}/\"):\n",
    "            makedirs(f\"../results/busco/Stramenopiles/{genome}/\")\n",
    "        busco_docker.remote.download_data(f\"/home/ecunha/busco/stramenopiles/{genome}/busco_output_test/short_summary.specific.stramenopiles_odb10.busco_output_test.txt\", f\"../results/busco/Stramenopiles/{genome}/short_summary.specific.stramenopiles_odb10.busco_output_test.txt\")\n",
    "    except Exception as e:\n",
    "        print(genome)\n",
    "        print(e)"
   ],
   "metadata": {
    "collapsed": false,
    "ExecuteTime": {
     "end_time": "2024-02-12T11:31:52.297471300Z",
     "start_time": "2024-02-12T11:31:50.282738Z"
    }
   },
   "id": "59a8ded76ee86733",
   "execution_count": 9
  },
  {
   "metadata": {},
   "cell_type": "code",
   "outputs": [],
   "execution_count": null,
   "source": [
    "sample,scratch_dir,fasta_file,ng_output,genome_size,metrics_output,contam_check_output,email,busco_dataset,busco_output,species,threads\n",
    "Creinhardtii,/home/ecunha/algae/genomes/chlorophyta/Creinhardtii/,genomic.fna,output.txt,112,metrics_output.txt,contam_output.txt,ecunha@ceb.uminho.pt,eukaryota_odb10,sample1_busco_output,arabidopsis,4\n",
    "Cvulgaris,/home/ecunha/algae/genomes/chlorophyta/Cvulgaris/,genomic.fna,output.txt,112,metrics_output.txt,contam_output.txt,ecunha@ceb.uminho.pt,eukaryota_odb10,sample1_busco_output,arabidopsis,4\n",
    "Dunsal1,/home/ecunha/algae/genomes/chlorophyta/Dunsal1/,genomic.fna,output.txt,112,metrics_output.txt,contam_output.txt,ecunha@ceb.uminho.pt,eukaryota_odb10,sample1_busco_output,arabidopsis,4\n",
    "Hpluvialis,/home/ecunha/algae/genomes/chlorophyta/Hpluvialis/,genomic.fna,output.txt,112,metrics_output.txt,contam_output.txt,ecunha@ceb.uminho.pt,eukaryota_odb10,sample1_busco_output,arabidopsis,4\n",
    "Vcarteri,/home/ecunha/algae/genomes/chlorophyta/Vcarteri/,genomic.fna,output.txt,112,metrics_output.txt,contam_output.txt,ecunha@ceb.uminho.pt,eukaryota_odb10,sample1_busco_output,arabidopsis,4\n"
   ],
   "id": "300809020a75a44f"
  }
 ],
 "metadata": {
  "kernelspec": {
   "display_name": "Python 3",
   "language": "python",
   "name": "python3"
  },
  "language_info": {
   "codemirror_mode": {
    "name": "ipython",
    "version": 2
   },
   "file_extension": ".py",
   "mimetype": "text/x-python",
   "name": "python",
   "nbconvert_exporter": "python",
   "pygments_lexer": "ipython2",
   "version": "2.7.6"
  }
 },
 "nbformat": 4,
 "nbformat_minor": 5
}
